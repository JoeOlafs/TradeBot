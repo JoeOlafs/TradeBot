{
 "cells": [
  {
   "cell_type": "code",
   "execution_count": 1,
   "metadata": {},
   "outputs": [],
   "source": [
    "import keys"
   ]
  },
  {
   "cell_type": "code",
   "execution_count": 2,
   "metadata": {},
   "outputs": [],
   "source": [
    "import pandas as pd\n",
    "import sqlalchemy\n",
    "from binance.client import Client\n",
    "from binance import BinanceSocketManager"
   ]
  },
  {
   "cell_type": "code",
   "execution_count": 3,
   "metadata": {},
   "outputs": [],
   "source": [
    "client = Client(keys.api_key, keys.secret_key)\n",
    "bsm = BinanceSocketManager(client)"
   ]
  },
  {
   "cell_type": "code",
   "execution_count": 4,
   "metadata": {},
   "outputs": [],
   "source": [
    "dataSocket = bsm.trade_socket('ETHUSDC')"
   ]
  },
  {
   "cell_type": "code",
   "execution_count": 5,
   "metadata": {},
   "outputs": [],
   "source": [
    "engine = sqlalchemy.create_engine('sqlite:///ETHUSDCstream.db')"
   ]
  },
  {
   "cell_type": "code",
   "execution_count": 6,
   "metadata": {},
   "outputs": [],
   "source": [
    "def createframe(msg):\n",
    "     df = pd.DataFrame([msg])\n",
    "     df = df.loc[:,['s', 'E', 'p']]\n",
    "     df.columns = ['Symbol', 'Time', 'Price']\n",
    "     df.Price = df.Price.astype(float)\n",
    "     df.Time = pd.to_datetime(df.Time, unit='ms')\n",
    "     return df"
   ]
  },
  {
   "cell_type": "code",
   "execution_count": null,
   "metadata": {},
   "outputs": [
    {
     "name": "stdout",
     "output_type": "stream",
     "text": [
      "    Symbol                    Time    Price\n",
      "0  ETHUSDC 2021-12-14 21:41:24.213  3874.11\n",
      "    Symbol                    Time    Price\n",
      "0  ETHUSDC 2021-12-14 21:41:24.225  3874.04\n",
      "    Symbol                    Time    Price\n",
      "0  ETHUSDC 2021-12-14 21:41:24.240  3873.36\n",
      "    Symbol                    Time    Price\n",
      "0  ETHUSDC 2021-12-14 21:41:24.243  3873.36\n",
      "    Symbol                    Time    Price\n",
      "0  ETHUSDC 2021-12-14 21:41:24.243  3873.35\n",
      "    Symbol                    Time    Price\n",
      "0  ETHUSDC 2021-12-14 21:41:24.243  3873.18\n",
      "    Symbol                    Time    Price\n",
      "0  ETHUSDC 2021-12-14 21:41:24.273  3873.18\n",
      "    Symbol                    Time    Price\n",
      "0  ETHUSDC 2021-12-14 21:41:27.963  3874.65\n",
      "    Symbol                    Time    Price\n",
      "0  ETHUSDC 2021-12-14 21:41:27.963  3874.65\n",
      "    Symbol                    Time    Price\n",
      "0  ETHUSDC 2021-12-14 21:41:27.964  3874.65\n",
      "    Symbol                    Time    Price\n",
      "0  ETHUSDC 2021-12-14 21:41:27.981  3874.65\n",
      "    Symbol                    Time    Price\n",
      "0  ETHUSDC 2021-12-14 21:41:27.984  3874.65\n",
      "    Symbol                    Time    Price\n",
      "0  ETHUSDC 2021-12-14 21:41:27.984  3874.65\n",
      "    Symbol                    Time    Price\n",
      "0  ETHUSDC 2021-12-14 21:41:27.992  3874.65\n",
      "    Symbol                    Time    Price\n",
      "0  ETHUSDC 2021-12-14 21:41:34.540  3875.86\n",
      "    Symbol                    Time    Price\n",
      "0  ETHUSDC 2021-12-14 21:41:34.540  3875.86\n",
      "    Symbol                    Time    Price\n",
      "0  ETHUSDC 2021-12-14 21:41:34.546  3875.86\n",
      "    Symbol                    Time    Price\n",
      "0  ETHUSDC 2021-12-14 21:41:34.546  3875.86\n",
      "    Symbol                    Time    Price\n",
      "0  ETHUSDC 2021-12-14 21:41:34.851  3876.43\n",
      "    Symbol                    Time    Price\n",
      "0  ETHUSDC 2021-12-14 21:41:36.305  3876.33\n",
      "    Symbol                    Time    Price\n",
      "0  ETHUSDC 2021-12-14 21:41:36.305  3876.33\n",
      "    Symbol                Time    Price\n",
      "0  ETHUSDC 2021-12-14 21:41:46  3876.86\n",
      "    Symbol                Time    Price\n",
      "0  ETHUSDC 2021-12-14 21:41:46  3876.86\n",
      "    Symbol                Time    Price\n",
      "0  ETHUSDC 2021-12-14 21:41:46  3876.87\n",
      "    Symbol                    Time    Price\n",
      "0  ETHUSDC 2021-12-14 21:41:53.941  3877.54\n",
      "    Symbol                    Time    Price\n",
      "0  ETHUSDC 2021-12-14 21:41:53.941  3877.54\n",
      "    Symbol                    Time    Price\n",
      "0  ETHUSDC 2021-12-14 21:41:54.224  3876.31\n"
     ]
    }
   ],
   "source": [
    "while True:\n",
    "    await dataSocket.__aenter__()\n",
    "    msg = await dataSocket.recv()\n",
    "    #print(msg)\n",
    "    frame = createframe(msg)\n",
    "    frame.to_sql('ETHUSDC', engine, if_exists='append', index=False)\n",
    "    print(frame)"
   ]
  },
  {
   "cell_type": "code",
   "execution_count": 10,
   "metadata": {},
   "outputs": [
    {
     "data": {
      "text/html": [
       "<div>\n",
       "<style scoped>\n",
       "    .dataframe tbody tr th:only-of-type {\n",
       "        vertical-align: middle;\n",
       "    }\n",
       "\n",
       "    .dataframe tbody tr th {\n",
       "        vertical-align: top;\n",
       "    }\n",
       "\n",
       "    .dataframe thead th {\n",
       "        text-align: right;\n",
       "    }\n",
       "</style>\n",
       "<table border=\"1\" class=\"dataframe\">\n",
       "  <thead>\n",
       "    <tr style=\"text-align: right;\">\n",
       "      <th></th>\n",
       "      <th>Symbol</th>\n",
       "      <th>Time</th>\n",
       "      <th>Price</th>\n",
       "    </tr>\n",
       "  </thead>\n",
       "  <tbody>\n",
       "    <tr>\n",
       "      <th>0</th>\n",
       "      <td>ETHUSDC</td>\n",
       "      <td>2021-12-14 05:11:50.010</td>\n",
       "      <td>3772.46</td>\n",
       "    </tr>\n",
       "  </tbody>\n",
       "</table>\n",
       "</div>"
      ],
      "text/plain": [
       "    Symbol                    Time    Price\n",
       "0  ETHUSDC 2021-12-14 05:11:50.010  3772.46"
      ]
     },
     "execution_count": 10,
     "metadata": {},
     "output_type": "execute_result"
    }
   ],
   "source": [
    "createframe(msg)"
   ]
  },
  {
   "cell_type": "code",
   "execution_count": null,
   "metadata": {},
   "outputs": [],
   "source": []
  }
 ],
 "metadata": {
  "kernelspec": {
   "display_name": "Python 3 (ipykernel)",
   "language": "python",
   "name": "python3"
  },
  "language_info": {
   "codemirror_mode": {
    "name": "ipython",
    "version": 3
   },
   "file_extension": ".py",
   "mimetype": "text/x-python",
   "name": "python",
   "nbconvert_exporter": "python",
   "pygments_lexer": "ipython3",
   "version": "3.9.7"
  }
 },
 "nbformat": 4,
 "nbformat_minor": 4
}
