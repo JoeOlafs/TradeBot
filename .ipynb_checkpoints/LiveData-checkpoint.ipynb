{
 "cells": [
  {
   "cell_type": "code",
   "execution_count": 6,
   "metadata": {},
   "outputs": [],
   "source": [
    "import keys"
   ]
  },
  {
   "cell_type": "code",
   "execution_count": 4,
   "metadata": {},
   "outputs": [],
   "source": [
    "import pandas as pd\n",
    "import sqlalchemy\n",
    "from binance.client import Client\n",
    "from binance import BinanceSocketManager"
   ]
  },
  {
   "cell_type": "code",
   "execution_count": 8,
   "metadata": {},
   "outputs": [],
   "source": [
    "client = Client(keys.api_key, keys.secret_key)\n",
    "bsm = BinanceSocketManager(client)"
   ]
  },
  {
   "cell_type": "code",
   "execution_count": 10,
   "metadata": {},
   "outputs": [
    {
     "name": "stdout",
     "output_type": "stream",
     "text": [
      "{'e': 'trade', 'E': 1633689626332, 's': 'ETHUSDC', 't': 12144384, 'p': '3634.64000000', 'q': '0.03210000', 'b': 430855793, 'a': 430855792, 'T': 1633689626332, 'm': False, 'M': True}\n"
     ]
    }
   ],
   "source": [
    "dataSocket = bsm.trade_socket('ETHUSDC')\n",
    "await dataSocket.__aenter__()\n",
    "msg = await dataSocket.recv()\n",
    "print(msg)"
   ]
  },
  {
   "cell_type": "code",
   "execution_count": 11,
   "metadata": {},
   "outputs": [],
   "source": [
    "def createframe(msg):\n",
    "     df = pd.DataFrame([msg])\n",
    "     df = df.loc[:,['s', 'E', 'p']]\n",
    "     df.columns = ['Symbol', 'Time', 'Price']\n",
    "     df.Price = df.Price.astype(float)\n",
    "     df.Time = pd.to_datetime(df.Time, unit='ms')\n",
    "     return df"
   ]
  },
  {
   "cell_type": "code",
   "execution_count": 12,
   "metadata": {},
   "outputs": [
    {
     "data": {
      "text/html": [
       "<div>\n",
       "<style scoped>\n",
       "    .dataframe tbody tr th:only-of-type {\n",
       "        vertical-align: middle;\n",
       "    }\n",
       "\n",
       "    .dataframe tbody tr th {\n",
       "        vertical-align: top;\n",
       "    }\n",
       "\n",
       "    .dataframe thead th {\n",
       "        text-align: right;\n",
       "    }\n",
       "</style>\n",
       "<table border=\"1\" class=\"dataframe\">\n",
       "  <thead>\n",
       "    <tr style=\"text-align: right;\">\n",
       "      <th></th>\n",
       "      <th>Symbol</th>\n",
       "      <th>Time</th>\n",
       "      <th>Price</th>\n",
       "    </tr>\n",
       "  </thead>\n",
       "  <tbody>\n",
       "    <tr>\n",
       "      <th>0</th>\n",
       "      <td>ETHUSDC</td>\n",
       "      <td>2021-10-08 10:40:26.332</td>\n",
       "      <td>3634.64</td>\n",
       "    </tr>\n",
       "  </tbody>\n",
       "</table>\n",
       "</div>"
      ],
      "text/plain": [
       "    Symbol                    Time    Price\n",
       "0  ETHUSDC 2021-10-08 10:40:26.332  3634.64"
      ]
     },
     "execution_count": 12,
     "metadata": {},
     "output_type": "execute_result"
    }
   ],
   "source": [
    "createframe(msg)"
   ]
  },
  {
   "cell_type": "code",
   "execution_count": null,
   "metadata": {},
   "outputs": [],
   "source": []
  }
 ],
 "metadata": {
  "kernelspec": {
   "display_name": "Python 3 (ipykernel)",
   "language": "python",
   "name": "python3"
  },
  "language_info": {
   "codemirror_mode": {
    "name": "ipython",
    "version": 3
   },
   "file_extension": ".py",
   "mimetype": "text/x-python",
   "name": "python",
   "nbconvert_exporter": "python",
   "pygments_lexer": "ipython3",
   "version": "3.9.7"
  }
 },
 "nbformat": 4,
 "nbformat_minor": 4
}
